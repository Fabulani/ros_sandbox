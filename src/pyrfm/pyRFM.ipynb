{
 "cells": [
  {
   "cell_type": "markdown",
   "metadata": {},
   "source": [
    "# PyRFM\n",
    "__This script is an implementaion of Reflectance Field Mapping as published in ICRA 2023.__\n",
    "\n",
    "This script is designed for readability and flexibility, and runs in a batch mode.  \n",
    "Our C++ implementation demonstrates use of this in a full SLAM system, but this notebook shows only the mapping part.\n",
    "\n",
    "# Usage\n",
    "\n",
    "There are 3 main parts:\n",
    "- *doRFM()* creates a basic reflectance field map, simply rasterizing hits and misses in (x,y,theta) space.\n",
    "- *selectH()* selectively keeps glass by floodfilling RFM and finding connected components with the H shape feature defined in the paper\n",
    "- *classifyReflections()* Removes lidar beams that pass \"through\" a known object and are likely reflected images of something else\n"
   ]
  },
  {
   "cell_type": "markdown",
   "metadata": {},
   "source": [
    "In online mode, these three steps run constantly and interleaved. However a 3D incremental floodfill is unreadable in Python and somewhat slow.  \n",
    "To get the same effect in batch mode, you run the following sequence:\n",
    "\n",
    "    doRFM() -> selectH() -> clasifyReflections() -> doRFM() -> selectH()\n",
    "   "
   ]
  },
  {
   "cell_type": "markdown",
   "metadata": {},
   "source": [
    "## Example Data\n",
    "\n",
    "This code uses input data in a deliberately trivial format. Every lidar observation specifies:\n",
    "\n",
    "- sx,sy : the start of the ray (i.e. lidar sensor center) in the map coordinates \n",
    "- ex,ey : the endpoint of the ray\n",
    "- r, th, i : original range, angle, and intensity reported by the sensor \\[th, i are unused\\]\n",
    "- idx : the identifier of the sensor the ray is from \\[unused\\]\n",
    "- ts : Unix timestamp of the ray \\[unused\\]\n",
    "\n",
    "These are simply dumped (little endian) for every ray to a file, with sizes as specifed in the data loading cell below. Bad rays are indicated by a negative range.\n",
    "\n",
    "Because rays are already expressed in map coodinates there is no need for cross referencing with localization, motion compensation, or other nontrivial coordinate transformations.\n",
    "\n",
    "For our sensor, every 1081 rays corresponds to a whole scan, but you may want to change this for your code. \n",
    "The RFM is quite tolerant of incorrect scan sizes, but assumes a HIT and MISS cannot happen in the same cell within a scan, which preserves tricky corners.\n",
    "    "
   ]
  },
  {
   "cell_type": "code",
   "execution_count": 1,
   "metadata": {},
   "outputs": [],
   "source": [
    "import numpy as np\n",
    "%matplotlib widget\n",
    "import matplotlib.pyplot as plt\n",
    "import os\n",
    "from tqdm import tqdm # progress bar"
   ]
  },
  {
   "cell_type": "code",
   "execution_count": 2,
   "metadata": {},
   "outputs": [
    {
     "data": {
      "text/plain": [
       "'../../data/rays.rays'"
      ]
     },
     "execution_count": 2,
     "metadata": {},
     "output_type": "execute_result"
    }
   ],
   "source": [
    "rayfile = \"rays.rays\"\n",
    "data_dir = \"../../data/\"\n",
    "raypath = data_dir+rayfile\n",
    "raypath"
   ]
  },
  {
   "cell_type": "markdown",
   "metadata": {
    "tags": []
   },
   "source": [
    "# Hyperparameter Setting Instructions\n",
    "1. CELLS_PER_M should indicate a cell width less than the max displacement of the robot between scans. \n",
    "   1. Otherwise there may be gaps between adjacent rays in the same direction.\n",
    "2. Theta width should be >= laser angular spacing, and <= min peak half-width (i.e \"beam divergance\") at worst laser plane tilt\n",
    "   1. If you can't satisfy both, mount your laser better, stiffen your suspension, or get a blurrier (higher divergence) laser!\n",
    "3. Max range should be set so max_turn_rate * max_range < cell_width\n",
    "4. Currently, the max distance is hardcoded at 200 cells\n"
   ]
  },
  {
   "cell_type": "markdown",
   "metadata": {},
   "source": [
    "### HYPERPARAMTERs:"
   ]
  },
  {
   "cell_type": "code",
   "execution_count": 3,
   "metadata": {},
   "outputs": [],
   "source": [
    "th_spacing = 2*np.pi/360/4 # 1/4 degree spacing from the sensor\n",
    "th_bins = int(np.round(2*np.pi / th_spacing)) \n",
    "W, H = 800,1200\n",
    "\n",
    "\n",
    "bias = 0\n",
    "wide_threshold = 30*np.pi/180 / th_spacing\n",
    "epsl = 1.\n",
    "\n",
    "## Derived constants\n",
    "# w_HIT = 3 # Reduce to 1 if known no motion\n",
    "# w_MISS = 1 \n",
    "# REF_BLOCK_THRESH = w_MISS/(w_MISS+w_HIT) # the theoretical way. Fraction of hits to total that means we have a reflective voxel\n",
    "REF_BLOCK_THRESH = 0.3 # this is a good "
   ]
  },
  {
   "cell_type": "code",
   "execution_count": 4,
   "metadata": {},
   "outputs": [],
   "source": [
    "## Large persistent memory blocks. \n",
    "HIT = np.zeros((W,H,th_bins),'int16')\n",
    "MISS = np.zeros((W,H,th_bins),'int16')\n",
    "RFM = np.zeros((W,H,th_bins),'int8') # -1=TRANSPARENT, 0=UNK, 1=REFLECT\n",
    "RFM_mr = np.zeros((W,H,th_bins),'int8')\n",
    "WIDE = np.zeros((W,H,th_bins),'bool')\n",
    "NARROW = np.zeros((W,H,th_bins),'bool')\n",
    "prerender = np.zeros((W,H),'bool')\n",
    "refl_cache = np.zeros((W,H),'int16')\n",
    "trans_cache = np.zeros((W,H),'int16')\n",
    "OCC = np.zeros((W,H),'int8')\n",
    "\n",
    "vox_refl = np.zeros((W,H,th_bins),'float32')  \n",
    "CLASSIFIED_RFM = np.zeros((W,H,th_bins),'bool')  \n",
    "countvis = np.zeros((W,H),'uint16')\n",
    "counttrans = np.zeros((W,H),'uint16')\n",
    "countratio = np.zeros((W,H),'float32')\n"
   ]
  },
  {
   "cell_type": "markdown",
   "metadata": {},
   "source": [
    "### Load rays:"
   ]
  },
  {
   "cell_type": "code",
   "execution_count": 5,
   "metadata": {},
   "outputs": [
    {
     "name": "stdout",
     "output_type": "stream",
     "text": [
      "[('sx', '<f4'), ('sy', '<f4'), ('ex', '<f4'), ('ey', '<f4'), ('r', '<f4'), ('th', '<f4'), ('i', '<i4'), ('idx', '<i4'), ('ts', '<f8')]\n",
      "[(38.98473, 68.81507, 0., 0., -0.165, 0.       , -888209203, 0, 1.47939647e+09)\n",
      " (38.98473, 68.81507, 0., 0., -0.174, 0.       , -888209182, 0, 1.47939647e+09)\n",
      " (38.98473, 68.81507, 0., 0., -0.175, 0.       , -888209153, 0, 1.47939647e+09)\n",
      " ...\n",
      " (39.29727, 69.14227, 0., 0., -0.678, 1.8248912, -888206126, 1, 1.47939681e+09)\n",
      " (39.29727, 69.14227, 0., 0., -0.588, 1.8248912, -888206530, 1, 1.47939681e+09)\n",
      " (39.29727, 69.14227, 0., 0., -0.511, 1.8248912, -888207142, 1, 1.47939681e+09)]\n"
     ]
    }
   ],
   "source": [
    "rays_struct = np.dtype(\n",
    "    [\n",
    "        ('sx', np.float32),\n",
    "        ('sy', np.float32),\n",
    "        ('ex', np.float32),\n",
    "        ('ey', np.float32),\n",
    "        ('r' , np.float32),\n",
    "        ('th', np.float32),\n",
    "        ('i',  np.int32),\n",
    "        ('idx',  np.int32),\n",
    "        ('ts', np.float64), \n",
    "      ])\n",
    "print(rays_struct)\n",
    "# rays0 = np.memmap(rayfile,rays_struct, 'r',1) # if you want, you can memory map the file.\n",
    "rays0 = np.fromfile(raypath, rays_struct)\n",
    "print(rays0)\n",
    "rays0 = rays0[:int(len(rays0)//1081*1081)]"
   ]
  },
  {
   "cell_type": "code",
   "execution_count": 6,
   "metadata": {},
   "outputs": [
    {
     "name": "stdout",
     "output_type": "stream",
     "text": [
      "Cell width: 0.05\n",
      "fcorns\n",
      " [[      28.71       12.34]\n",
      " [      70.15       76.33]]\n",
      "pxc_corns\n",
      " [[     574.11     -246.81]\n",
      " [    1402.93    -1526.6 ]]\n",
      "pxc_topleft\n",
      " [     574       -1527   ]\n",
      "pxc_btmright\n",
      " [    1403        -246   ]\n",
      "pxc_extent\n",
      " [     829        1281   ]\n",
      "px_corns\n",
      " [[       0.11     1280.19]\n",
      " [     828.93        0.4 ]]\n",
      "px_topleft\n",
      " [       0           0   ]\n",
      "px_btmright\n",
      " [     829        1281   ]\n",
      "px_extent\n",
      " [     829        1281   ]\n"
     ]
    }
   ],
   "source": [
    "## Find the max extent of the map and transforms\n",
    "\n",
    "keep=(rays0['r']<10000)*(rays0['r']<10000)\n",
    "rays=rays0[keep==1]\n",
    "\n",
    "## Figure out rasterization\n",
    "# Floor of float coords is integer coords\n",
    "# Images are y flipped\n",
    "\n",
    "def homp(T,pts):\n",
    "    tmppts = pts @ T[:-1,:-1].T + T[:-1,-1]\n",
    "    denom = pts @ T[-1:,:-1].T + T[-1,-1]\n",
    "    return tmppts/denom\n",
    "\n",
    "\n",
    "CELLS_PER_M = 20.0\n",
    "print(\"Cell width:\", 1/CELLS_PER_M)\n",
    "\n",
    "formatter = {'float':lambda x:np.format_float_positional(x,precision=2,fractional=True,trim='-',pad_left=8,pad_right=2)}\n",
    "\n",
    "def get_T_px_f_with_extent(rays, debug=False):\n",
    "    # The corners in world space\n",
    "    f_corns = np.array(\n",
    "        [[np.min(rays['ex']),np.min(rays['ey'])],\n",
    "         [np.max(rays['ex']),np.max(rays['ey'])]])\n",
    "    T_pxc_f = np.array(\n",
    "        [[1*CELLS_PER_M, 0             , 0],\n",
    "         [0            , -1*CELLS_PER_M, 0],\n",
    "         [0            , 0             , 1]])\n",
    "    pxc_corns=homp(T_pxc_f,f_corns)\n",
    "    pxc_topleft = np.array([  np.floor(np.min(pxc_corns[:,0])), np.floor(np.min(pxc_corns[:,1]))  ]) #inclusive\n",
    "    pxc_btmright= np.array([  np.floor(np.max(pxc_corns[:,0])), np.floor(np.max(pxc_corns[:,1]))  ]) + 1 #exclusive\n",
    "    pxc_extent = pxc_btmright-pxc_topleft\n",
    "\n",
    "    T_px_f = T_pxc_f.copy()\n",
    "    T_px_f[:-1,-1] = -pxc_topleft\n",
    "\n",
    "    px_corns=homp(T_px_f,f_corns)\n",
    "    px_topleft = np.array([  np.floor(np.min(px_corns[:,0])), np.floor(np.min(px_corns[:,1]))  ]) #inclusive\n",
    "    px_btmright= np.array([  np.floor(np.max(px_corns[:,0])), np.floor(np.max(px_corns[:,1]))  ]) + 1 #exclusive\n",
    "    px_extent = px_btmright-px_topleft\n",
    "\n",
    "    assert (np.all(pxc_extent == px_extent))\n",
    "\n",
    "    if debug:\n",
    "        print(\"fcorns\\n\",f_corns)\n",
    "\n",
    "        for var in ['pxc_corns',\n",
    "                    'pxc_topleft',\n",
    "                    'pxc_btmright',\n",
    "                    'pxc_extent',\n",
    "                    'px_corns',\n",
    "                    'px_topleft',\n",
    "                    'px_btmright',\n",
    "                    'px_extent',\n",
    "                    ]:\n",
    "            print(var+'\\n', eval(var))\n",
    "    return T_px_f, px_extent.astype('int64')\n",
    "\n",
    "keep_for_window=(rays0['r']>0)*(rays0['r']<10)\n",
    "with np.printoptions(formatter=formatter):\n",
    "    T_px_f, px_extent = get_T_px_f_with_extent(rays[keep_for_window], debug=True)"
   ]
  },
  {
   "cell_type": "markdown",
   "metadata": {},
   "source": [
    "## Convert rays to grid coodinates\n",
    "This is just a scaling and offset.  \n",
    "Since we computed the extent of the map in a previous cell, if you want to use a subset of the rays, but keep map extents, do it here."
   ]
  },
  {
   "cell_type": "code",
   "execution_count": 7,
   "metadata": {},
   "outputs": [
    {
     "name": "stdout",
     "output_type": "stream",
     "text": [
      "# Rays to map: 23674981\n",
      "Time range to map: 1479396473.584265 1479396811.672591\n"
     ]
    },
    {
     "data": {
      "application/vnd.jupyter.widget-view+json": {
       "model_id": "e25e933a6fb444c7b91a1c386a60189e",
       "version_major": 2,
       "version_minor": 0
      },
      "image/png": "[encoded data removed]",
      "text/html": [
       "\n",
       "            <div style=\"display: inline-block;\">\n",
       "                <div class=\"jupyter-widgets widget-label\" style=\"text-align: center;\">\n",
       "                    Figure\n",
       "                </div>\n",
       "                <img src='data:image/png;base64,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' width=640.0/>\n",
       "            </div>\n",
       "        "
      ],
      "text/plain": [
       "Canvas(toolbar=Toolbar(toolitems=[('Home', 'Reset original view', 'home', 'home'), ('Back', 'Back to previous …"
      ]
     },
     "metadata": {},
     "output_type": "display_data"
    }
   ],
   "source": [
    "# # Debug show input rays\n",
    "# %matplotlib widget\n",
    "# plt.plot(rays0['ex'],rays0['ey'],'b,')\n",
    "\n",
    "\n",
    "# # If you need to edit the rays, but keep extents, do it here\n",
    "# # Example: Slice by endpoint\n",
    "# rays0 = rays0[rays0['ex']>50 ]\n",
    "# rays0 = rays0[rays0['ex']<55 ]\n",
    "# rays0 = rays0[rays0['ey']<23 ]\n",
    "# print(len(rays0))\n",
    "\n",
    "# # Example 2: Slice away a certain number of rays\n",
    "# substart = 0\n",
    "# subend = int(2.0e6)\n",
    "# rays0 = rays0[substart:subend]\n",
    "# rays0 = rays0[:int(len(rays0)//1081*1081)] # Trick to cut off ragged scans to make blocks of length 1081\n",
    "\n",
    "# # Example 3: Slice by time\n",
    "# rays0 = rays0[rays0['ts']< 1479396535.3080368]\n",
    "rays = rays0.copy()\n",
    "\n",
    "print(\"# Rays to map:\", len(rays0))\n",
    "plt.plot(rays0['ex'],rays0['ey'],'k,')\n",
    "plt.plot(rays0['sx'],rays0['sy'],'c,')\n",
    "print(\"Time range to map:\", np.min(rays0['ts']),np.max(rays0['ts']))\n",
    "\n",
    "# convert to [start_cell_x,start_cell_y, d_cell, th] format\n",
    "f_spt = np.vstack((rays['sx'].ravel(),rays['sy'].ravel())).T.copy()\n",
    "f_ept = np.vstack((rays['ex'].ravel(),rays['ey'].ravel())).T.copy()\n",
    "px_spt = homp(T_px_f, f_spt)\n",
    "px_ept = homp(T_px_f, f_ept)\n",
    "px_d = np.sqrt(np.sum((px_ept-px_spt)**2,axis=1))\n",
    "px_th = np.mod(np.arctan2((px_ept-px_spt)[:,1], (px_ept-px_spt)[:,0]),2*np.pi)\n",
    "def get_raster_coords(rays, T_px_f):\n",
    "    # implicit inputs: T_px_f\n",
    "    f_ept = np.vstack((rays['ex'].ravel(),rays['ey'].ravel())).T.copy()\n",
    "    px_coords = homp(T_px_f, f_ept)\n",
    "    px_coords = px_coords.reshape(rays['ex'].shape+(2,))\n",
    "    return px_coords\n",
    "\n",
    "th_spacing = 2*np.pi/360/4\n",
    "\n",
    "outrays = np.vstack([px_spt.T,px_d,px_th/th_spacing])\n",
    "notref = np.ones_like(outrays[0], dtype=bool)\n",
    "\n",
    "# #\n",
    "# plt.plot(px_ept[:,0],px_ept[:,1],'b,')\n",
    "# plt.plot(px_ept[10000:101081,0],px_ept[10000:101081,1],'r,')"
   ]
  },
  {
   "cell_type": "markdown",
   "metadata": {},
   "source": [
    "# Basic RFM\n",
    "The following calculates the basic RFM, accumulating HITs and MISSes. \\\n",
    "It does not account for reflections, and doesn't link up objects (we do that later)\n",
    "\n",
    "Typically runs ~80 scans/second"
   ]
  },
  {
   "cell_type": "code",
   "execution_count": 8,
   "metadata": {},
   "outputs": [],
   "source": [
    "loclip = np.array([0,0,0]).reshape(3,1)\n",
    "hiclip = (np.array(HIT.shape)-1).reshape(3,1)\n",
    "def quantize(coords):# 3xN\n",
    "    return np.clip(np.floor(coords),loclip,hiclip).astype('int')\n",
    "\n",
    "def quantize4(coords): # 4 pt xy antialiasing samples # 3xN\n",
    "    coords = np.array(coords).T  # Nx3\n",
    "    aa = np.array(((-0.5,-0.5,0.0), (-0.5,0.5,0.0), \n",
    "                  ( 0.5,-0.5,0.0), ( 0.5,0.5,0.0) )) # 4x3\n",
    "    coords4 = aa + coords[:,np.newaxis,:] # N,4,3\n",
    "    coords4= coords4.reshape(-1,3).T\n",
    "    return np.floor(np.clip(coords4,loclip,hiclip)).astype('int')\n",
    "\n",
    "def RFM_update_cell(x,y,th):\n",
    "    # Unused in batch mode! Would update floodfill connected components in non-batch\n",
    "    pass\n",
    "    \n",
    "# Define the accumulate operator, that renders rays\n",
    "def accumulate(rays, notref):\n",
    "    \n",
    "    \n",
    "\n",
    "    # ray has a starting point, distance before it returned, and direction\n",
    "    [x_start, y_start, d, th] = rays\n",
    "    [slope_x, slope_y] = [np.cos(th*th_spacing), np.sin(th*th_spacing)]\n",
    "    \n",
    "    # prerender lets us stop rendering a ray that would go through a HIT\n",
    "    prerender[:,:]=0\n",
    "    xyth = quantize4((x_start[notref] + d[notref]*slope_x[notref], y_start[notref] + d[notref]*slope_y[notref], th[notref]))\n",
    "    prerender[xyth[0],xyth[1]]=1\n",
    "    \n",
    "\n",
    "    # ray has a starting point, distance before it returned, and direction\n",
    "    [x_start, y_start, d, th] = rays\n",
    "    [slope_x, slope_y] = [np.cos(th*th_spacing), np.sin(th*th_spacing)]\n",
    "    \n",
    "    \n",
    "    # Render all MISSES in parallel. Rays stop drawing when past d-epsl from the start\n",
    "    live=np.ones_like(d)\n",
    "    r=np.full_like(d,0)\n",
    "    for r0 in range(0,200):\n",
    "        r[:]=r0\n",
    "        live[r0>=d-epsl]=0\n",
    "        r[live==0]=100000\n",
    "        xyth = quantize((x_start + r*slope_x, y_start + r*slope_y, th))\n",
    "        live*=(prerender[xyth[0],xyth[1]]==0)\n",
    "        MISS[xyth[0],xyth[1],xyth[2]]+=1\n",
    "        RFM_update_cell(xyth[0],xyth[1],xyth[2])\n",
    "    xyth = quantize((x_start[notref] + d[notref]*slope_x[notref], y_start[notref] + d[notref]*slope_y[notref], th[notref]))\n",
    "    HIT[xyth[0],xyth[1],xyth[2]]+=1\n",
    "    RFM_update_cell(xyth[0], xyth[1], xyth[2])"
   ]
  },
  {
   "cell_type": "code",
   "execution_count": 9,
   "metadata": {},
   "outputs": [],
   "source": [
    "# The basic RFM doer. \n",
    "def doRFM():\n",
    "    print(\"Building RFM\")\n",
    "    MISS[...] = 0\n",
    "    HIT[...] = 0\n",
    "    arays = outrays.copy()\n",
    "\n",
    "    ls=0\n",
    "    keep=(rays0['r']<10)*(rays0['r']>0)\n",
    "    CHUNK_SIZE = 1081\n",
    "    for s in tqdm(range(CHUNK_SIZE,arays.shape[1]+1,CHUNK_SIZE)):\n",
    "            tmprays=arays[:,ls:s][:,keep[ls:s]]\n",
    "            nrtemp=notref[ls:s][keep[ls:s]]\n",
    "            accumulate(tmprays, nrtemp)\n",
    "            ls=s\n",
    "    plt.imshow(np.sum(MISS,axis=2))\n",
    "    assert np.max(MISS)>0\n",
    "    vox_refl[...] = HIT/(np.float32(0.1)+HIT+MISS) # classify \n",
    "    CLASSIFIED_RFM[...] = vox_refl > REF_BLOCK_THRESH\n",
    "    countvis[...] = np.sum(CLASSIFIED_RFM, axis=2).astype(np.uint16)\n",
    "    counttrans[...] = np.sum((CLASSIFIED_RFM==0)&(MISS>0), axis=2).astype(np.uint16)\n",
    "    countratio[...] = np.float32(1.0*countvis/(countvis+counttrans+0.0000000001))\n",
    "    refl_cache[...] = (countratio > 0.5) | (countvis > 12)  # More reflective than not or a suspiciously wide range of sightings"
   ]
  },
  {
   "cell_type": "code",
   "execution_count": 10,
   "metadata": {
    "tags": []
   },
   "outputs": [],
   "source": [
    "# Utility that unions two sets of labelled data. Used to turn normal flood fill into circular floodfill around theta.\n",
    "def unify_labels(rfmcomps, rfmcomps2):\n",
    "    # unify labels is mostly a wrapper around fuse, but with the optimization that we only try to \n",
    "    # fuse nonzero labels, since we know they're the same\n",
    "    def fuse(A,B):\n",
    "        # Assumes A and B are label matricies with different labels and we need to fuse them\n",
    "        # Any repeated label between the two corresponds\n",
    "        # Assumes that the labels go from 0 to max(max(A),max(B))\n",
    "        # Also assumes all labels in A are <= to the ones in B\n",
    "        assert(np.all(A<=B))\n",
    "  \n",
    "        lookup = np.arange(np.maximum(np.max(A),np.max(B))+1, dtype=np.int32)\n",
    "        np.minimum.at(lookup,B,A) # Bs now lookup the lowest A they connect to, As loopback\n",
    "\n",
    "        B=lookup[B] #Now all Bs are <= A\n",
    "\n",
    "        np.minimum.at(lookup,A,B)\n",
    "        #As lookup the smallest B they connect to, Bs lookup the smallest A or better\n",
    "        B=lookup[lookup[B]] \n",
    "\n",
    "        extr=(A!=B) \n",
    "        remA=A[extr]\n",
    "        remB=B[extr]\n",
    "        if len(remA)==0:\n",
    "            \n",
    "            return B\n",
    "        recur = fuse(remB,remA)\n",
    "        B[extr] = recur\n",
    "        return B\n",
    "    \n",
    "    nz=fuse(rfmcomps[rfmcomps!=0].ravel(),rfmcomps2[rfmcomps2!=0].ravel())\n",
    "    rfmcomps[rfmcomps!=0]=nz\n",
    "    return rfmcomps\n",
    "\n",
    "# fuse(np.array([1,2,2,3,3,4,4]),np.array([5,6,7,7,8,8,9]))"
   ]
  },
  {
   "cell_type": "markdown",
   "metadata": {},
   "source": [
    "# Classify Reflection Rays\n",
    "Mark the depths where rays try to go through another object. \n",
    "PEN_DEPTH controls this. We set to 30cm to deal with the stupid 20cm short detections that seem to plague our laser.\n",
    "\n",
    "The basic idea is that all rays render MISSes, but only rays that travel less than PEN_DEPTH from the surface can render HITs"
   ]
  },
  {
   "cell_type": "code",
   "execution_count": 11,
   "metadata": {},
   "outputs": [],
   "source": [
    "# classify reflectionness of a ray and clip to a given penetration depth\n",
    "PEN_DEPTH = np.ceil(0.101*CELLS_PER_M)\n",
    "def classify(rays, pen_depth=None):\n",
    "    rays=rays.copy()\n",
    "    if pen_depth is None:\n",
    "        pen_depth = PEN_DEPTH\n",
    "    HACK_FACTOR = 2 # ensure that detected reflections still count as seen through for this distance\n",
    "#     for ray in rays:\n",
    "    # ray has a starting point, distance before it returned, and direction\n",
    "    [x_start, y_start, d, th] = rays\n",
    "    [slope_x, slope_y] = [np.cos(th*th_spacing), np.sin(th*th_spacing)]\n",
    "    \n",
    "    \n",
    "    notref=np.ones_like(d,dtype=bool)\n",
    "    r=np.full_like(d,0)\n",
    "    for r0 in tqdm(range(0,200)):\n",
    "#         print(r0,end=', ')\n",
    "        r[:]=r0\n",
    "        xyth = quantize((x_start + r*slope_x, y_start + r*slope_y, th))\n",
    "        \n",
    "#         if r0>1\n",
    "        stopped=(refl_cache[xyth[0],xyth[1]]!=0)\n",
    "        notrefish = r0 > d[stopped]-pen_depth\n",
    "        notref[stopped] *= notrefish\n",
    "#         print(r0+pen_depth)\n",
    "       \n",
    "        d[stopped]=np.minimum(d[stopped],r0+pen_depth+HACK_FACTOR) \n",
    "        \n",
    "    rays = np.vstack([x_start, y_start, d, th])\n",
    "    return rays, notref\n",
    "\n",
    "\n",
    "# The returned rays now have distances reflecting how far to render them. \n",
    "# If the distance is less than the original, we want to not render the HIT when we rerender\n",
    "# \"notref\" keeps track of which rays should render their endpoint\n",
    "\n",
    "# This operation is ~1/3 the work of the normal RFM render, but I haven't optimized it, so it \n",
    "# runs much slower when the ray list is too big fo the cache"
   ]
  },
  {
   "cell_type": "markdown",
   "metadata": {},
   "source": [
    "# Motion Removal"
   ]
  },
  {
   "cell_type": "code",
   "execution_count": 12,
   "metadata": {},
   "outputs": [],
   "source": [
    "# This function produces a label array rfmcomps, that labels everything that is connected in RFM space, accounting for the wraparound of theta\n",
    "# It works by labelling connected components, rolling Pi around, relabelling, and then merging the resulting label set\n",
    "\n",
    "from scipy.ndimage import label\n",
    "from scipy.ndimage import generate_binary_structure\n",
    "\n",
    "def label_connected_components():\n",
    "    global rfmcomps\n",
    "    vox_refl[...] = HIT/(np.float32(0.1)+HIT+MISS)\n",
    "    structure=generate_binary_structure(3,3)\n",
    "    rfmcomps, count = label(vox_refl>REF_BLOCK_THRESH, structure)\n",
    "\n",
    "    roll_vox_refl=np.roll(vox_refl, int(vox_refl.shape[2]//2), axis=2)\n",
    "    rfmcomps2, count = label(roll_vox_refl>REF_BLOCK_THRESH, structure)\n",
    "    del roll_vox_refl\n",
    "    offset=np.max(rfmcomps)+1\n",
    "    rfmcomps2=np.roll(rfmcomps2, -int(rfmcomps2.shape[2]//2), axis=2)+offset\n",
    "    rfmcomps2[rfmcomps2==offset]=0\n",
    "    rfmcomps = unify_labels(rfmcomps, rfmcomps2)\n",
    "    del rfmcomps2\n",
    "    return rfmcomps"
   ]
  },
  {
   "cell_type": "code",
   "execution_count": 13,
   "metadata": {},
   "outputs": [],
   "source": [
    "# This cell removes motion from RFM, given a label array for connected components\n",
    "def selectH():\n",
    "    global HIGHLY_VISIBLE\n",
    "    global rfmcomps\n",
    "    global selection_color\n",
    "    rfmcomps = label_connected_components()\n",
    "    HIGHLY_VISIBLE = (countvis>wide_threshold)\n",
    "    selection_color = np.max(rfmcomps)+1\n",
    "\n",
    "    plt.imshow(HIGHLY_VISIBLE.T)\n",
    "\n",
    "    # Build an array that has the selection_color on highly visible items, and the old color on everythng else\n",
    "    rfmcomps2 = (rfmcomps > 0)*HIGHLY_VISIBLE[:,:,np.newaxis]*selection_color\n",
    "    rfmcomps2[rfmcomps2==0]=rfmcomps[rfmcomps2==0]\n",
    "\n",
    "    # # Debug: check the selelection array\n",
    "    # to_show=np.nonzero(rfmcomps2!=rfmcomps2[-3,-3,-3])\n",
    "    # per=np.random.permutation(int(np.max(rfmcomps2))+1)\n",
    "    # %gui qt\n",
    "    # import mayavi.mlab\n",
    "    # mayavi.mlab.points3d(to_show[0], to_show[1], to_show[2],per[rfmcomps2[to_show].astype(int)], colormap='spectral',mode= 'point')\n",
    "\n",
    "    # Flood from the seeds\n",
    "    rfmcomps = unify_labels(rfmcomps, rfmcomps2)"
   ]
  },
  {
   "cell_type": "markdown",
   "metadata": {},
   "source": [
    "# Now we've defined everything, let's run the algorithm"
   ]
  },
  {
   "cell_type": "code",
   "execution_count": 14,
   "metadata": {},
   "outputs": [
    {
     "name": "stdout",
     "output_type": "stream",
     "text": [
      "Building RFM\n"
     ]
    },
    {
     "name": "stderr",
     "output_type": "stream",
     "text": [
      "100%|██████████| 21901/21901 [02:41<00:00, 135.24it/s]\n"
     ]
    }
   ],
   "source": [
    "keeprays=(rays0['r']<10)*(rays0['r']>0) # needed in ablations\n",
    "doRFM()"
   ]
  },
  {
   "cell_type": "code",
   "execution_count": 15,
   "metadata": {},
   "outputs": [
    {
     "data": {
      "text/plain": [
       "Text(0.5, 1.0, 'Cells that stop rays for reflectance calculations')"
      ]
     },
     "execution_count": 15,
     "metadata": {},
     "output_type": "execute_result"
    }
   ],
   "source": [
    "%matplotlib widget\n",
    "plt.imshow(refl_cache.T)\n",
    "plt.title('Cells that stop rays for reflectance calculations')"
   ]
  },
  {
   "cell_type": "code",
   "execution_count": 16,
   "metadata": {},
   "outputs": [
    {
     "data": {
      "text/plain": [
       "<matplotlib.image.AxesImage at 0x7f92346544c0>"
      ]
     },
     "execution_count": 16,
     "metadata": {},
     "output_type": "execute_result"
    }
   ],
   "source": [
    "%matplotlib widget\n",
    "\n",
    "selectH()\n",
    "\n",
    "# Selected Cells now have the highest label id.\n",
    "newselcolor=np.max(rfmcomps[HIGHLY_VISIBLE,:])\n",
    "selected = np.sum(rfmcomps==newselcolor,axis=2)\n",
    "\n",
    "# We keep all locations that are selected or have a HIT with no MISS \n",
    "nevermissed = ((np.sum(HIT,axis=2)>0)&(np.sum(MISS,axis=2)==0))\n",
    "allkept = 0.5*nevermissed+selected\n",
    "\n",
    "# Use this for reflection removal calculations, rather than the one acumulated in the basic RFM\n",
    "# Skiping this lets you ablate how the motion removal affects reflection removal\n",
    "refl_cache[...] = (allkept!=0)\n",
    "\n",
    "# Display the result summary so far\n",
    "%matplotlib widget\n",
    "plt.imshow(allkept.T>0)"
   ]
  },
  {
   "cell_type": "code",
   "execution_count": 17,
   "metadata": {},
   "outputs": [
    {
     "name": "stdout",
     "output_type": "stream",
     "text": [
      "(800, 1200, 1440)\n"
     ]
    },
    {
     "data": {
      "text/plain": [
       "<matplotlib.image.AxesImage at 0x7f92380068e0>"
      ]
     },
     "execution_count": 17,
     "metadata": {},
     "output_type": "execute_result"
    }
   ],
   "source": [
    "# Visualize after flood fill\n",
    "%matplotlib widget\n",
    "print(rfmcomps.shape)\n",
    "\n",
    "plt.imshow(np.clip(selected.T,0,15))"
   ]
  },
  {
   "cell_type": "markdown",
   "metadata": {},
   "source": [
    "# Time to remove reflections and do it all over again"
   ]
  },
  {
   "cell_type": "code",
   "execution_count": 18,
   "metadata": {},
   "outputs": [
    {
     "name": "stderr",
     "output_type": "stream",
     "text": [
      "100%|██████████| 200/200 [02:03<00:00,  1.61it/s]\n"
     ]
    },
    {
     "name": "stdout",
     "output_type": "stream",
     "text": [
      "Building RFM\n"
     ]
    },
    {
     "name": "stderr",
     "output_type": "stream",
     "text": [
      "100%|██████████| 21901/21901 [02:42<00:00, 134.92it/s]\n"
     ]
    }
   ],
   "source": [
    "keeprays=(rays0['r']<10)*(rays0['r']>0)\n",
    "\n",
    "# Reflection removal\n",
    "arays,notref = classify(outrays)\n",
    "\n",
    "# Repeat RFM building\n",
    "doRFM()\n",
    "\n",
    "# Repeat motion removal\n",
    "selectH()\n",
    "# Now we're done! everything after this is just display"
   ]
  },
  {
   "cell_type": "code",
   "execution_count": 19,
   "metadata": {},
   "outputs": [
    {
     "data": {
      "text/plain": [
       "<matplotlib.image.AxesImage at 0x7f8c881181f0>"
      ]
     },
     "execution_count": 19,
     "metadata": {},
     "output_type": "execute_result"
    }
   ],
   "source": [
    "# Selected Cells now have the highest label id.\n",
    "newselcolor=np.max(rfmcomps[HIGHLY_VISIBLE,:])\n",
    "selected = np.sum(rfmcomps==newselcolor,axis=2)\n",
    "\n",
    "# We keep all locations that are selected or have a HIT with no MISS \n",
    "nevermissed = ((np.sum(HIT,axis=2)>0)&(np.sum(MISS,axis=2)==0))\n",
    "allkept = 0.5*nevermissed+selected\n",
    "\n",
    "# Use this for reflection removal calculations, rather than the one acumulated in the basic RFM\n",
    "# Skiping this lets you ablate how the motion removal affects reflection removal\n",
    "refl_cache[...] = (allkept!=0)\n",
    "\n",
    "# Display the result summary so far\n",
    "%matplotlib widget\n",
    "plt.imshow(allkept.T>0)"
   ]
  },
  {
   "cell_type": "code",
   "execution_count": 20,
   "metadata": {},
   "outputs": [],
   "source": [
    "# # Debug\n",
    "# to_show=np.nonzero(rfmcomps!=rfmcomps[-3,-3,-3])\n",
    "# per=np.random.permutation(int(np.max(rfmcomps2))+1)\n",
    "# %gui qt\n",
    "# import mayavi.mlab\n",
    "# mayavi.mlab.close(all=True)\n",
    "# mayavi.mlab.points3d(to_show[0], to_show[1], to_show[2],per[rfmcomps[to_show].astype(int)], colormap='spectral', mode= 'point')"
   ]
  },
  {
   "cell_type": "code",
   "execution_count": 21,
   "metadata": {},
   "outputs": [],
   "source": [
    "# Build Ratio Metric for Occupancy \n",
    "countvis = np.sum(CLASSIFIED_RFM, axis=2).astype(np.uint16)\n",
    "counttrans = np.sum((CLASSIFIED_RFM==0)&(MISS>0), axis=2).astype(np.uint16)\n",
    "countratio = np.float32(1.0*countvis/(countvis+counttrans+0.0000000001))\n",
    "\n",
    "markedrfc = (rfmcomps>0)*countratio[:,:,np.newaxis]"
   ]
  },
  {
   "cell_type": "code",
   "execution_count": 23,
   "metadata": {},
   "outputs": [
    {
     "name": "stdout",
     "output_type": "stream",
     "text": [
      "Saving to: 1479396473584265_1479396811672591.info\n",
      "\n",
      "# Transform between map and pixels (opengl flooring convention):\n",
      "T_px_f= [[20.0, 0.0, -574.0], [0.0, -20.0, 1527.0], [0.0, 0.0, 1.0]]\n",
      "# Image info\n",
      "W,H,th_bins= (800, 1200, 1440)\n",
      "# Which rays were used:\n",
      "start_time= 1479396473.584265\n",
      "end_time= 1479396811.672591\n",
      "# Base dataset:\n",
      "rayfile= /data/bbb3_glass_eval_111716.rays\n",
      "\n"
     ]
    },
    {
     "name": "stderr",
     "output_type": "stream",
     "text": [
      "/tmp/ipykernel_8191/4171899897.py:39: RuntimeWarning: invalid value encountered in divide\n",
      "  cv2.imwrite(\"countratio.png\" , (countvis*1.0/(counttrans+countvis)*255).astype('uint8'))\n",
      "/tmp/ipykernel_8191/4171899897.py:39: RuntimeWarning: invalid value encountered in cast\n",
      "  cv2.imwrite(\"countratio.png\" , (countvis*1.0/(counttrans+countvis)*255).astype('uint8'))\n"
     ]
    },
    {
     "data": {
      "text/plain": [
       "True"
      ]
     },
     "execution_count": 23,
     "metadata": {},
     "output_type": "execute_result"
    }
   ],
   "source": [
    "import sys\n",
    "\n",
    "infofile = str(round(rays0['ts'][0]*1e6))+\"_\"+str(round(rays0['ts'][-1]*1e6))+\".info\"\n",
    "print(\"Saving to:\",infofile)\n",
    "print()\n",
    "\n",
    "original_stdout = sys.stdout # Save a reference to the original standard output\n",
    "\n",
    "with open(infofile, 'w') as f:\n",
    "    sys.stdout = f # Change the standard output to the file we created.\n",
    "    print(\"# Transform between map and pixels (opengl flooring convention):\")\n",
    "    print(\"T_px_f=\",T_px_f.tolist())\n",
    "    print(\"# Image info\")\n",
    "    print(\"W,H,th_bins=\",(W,H,th_bins))\n",
    "    print(\"# Which rays were used:\")\n",
    "    print(\"start_time=\", str(np.min(rays0['ts'])))\n",
    "    print(\"end_time=\", str(np.max(rays0['ts'])))\n",
    "    print(\"# Base dataset:\")\n",
    "    print(\"rayfile=\",str(rayfile))\n",
    "    sys.stdout = original_stdout \n",
    "with open(infofile, 'r') as f:\n",
    "    print(f.read())\n",
    "import cv2\n",
    "\n",
    "def writeim(name, IM):\n",
    "    # storage format is 16 bit unsigned\n",
    "    layers=[IM[:,:,layer] for layer in range(IM.shape[2])]\n",
    "    batches=[np.hstack(layers[off:off+40]) for off in range(0,IM.shape[2],40)]\n",
    "    rearranged = np.vstack(batches)\n",
    "    cv2.imwrite(name,rearranged.astype(np.uint16))\n",
    "writeim(\"MISS.png\", MISS)\n",
    "writeim(\"HIT.png\", HIT)\n",
    "cv2.imwrite(\"refl_cache.png\",refl_cache)\n",
    "cv2.imwrite(\"allkept.png\" , ((allkept>0)*255).astype(np.uint8))\n",
    "countvis = np.sum(CLASSIFIED_RFM, axis=2).astype(np.uint16)\n",
    "counttrans = np.sum((CLASSIFIED_RFM==0)&(MISS>0), axis=2).astype(np.uint16)\n",
    "cv2.imwrite(\"countvis.png\" , countvis)\n",
    "cv2.imwrite(\"counttrans.png\" , counttrans)\n",
    "cv2.imwrite(\"countratio.png\" , (countvis*1.0/(counttrans+countvis)*255).astype('uint8'))"
   ]
  },
  {
   "cell_type": "code",
   "execution_count": 24,
   "metadata": {},
   "outputs": [
    {
     "name": "stdout",
     "output_type": "stream",
     "text": [
      "                      vox_refl:  5.1 GiB\n",
      "                      rfmcomps:  5.1 GiB\n",
      "                     markedrfc:  5.1 GiB\n",
      "                           HIT:  2.6 GiB\n",
      "                          MISS:  2.6 GiB\n",
      "                           RFM:  1.3 GiB\n",
      "                        RFM_mr:  1.3 GiB\n",
      "                          WIDE:  1.3 GiB\n",
      "                        NARROW:  1.3 GiB\n",
      "                CLASSIFIED_RFM:  1.3 GiB\n",
      "                          rays: 903.1 MiB\n",
      "                       outrays: 722.5 MiB\n",
      "                         arays: 722.5 MiB\n",
      "                        px_spt: 361.3 MiB\n",
      "                        px_ept: 361.3 MiB\n",
      "                         f_spt: 180.6 MiB\n",
      "                         f_ept: 180.6 MiB\n",
      "                          px_d: 180.6 MiB\n",
      "                         px_th: 180.6 MiB\n",
      "                          keep: 22.6 MiB\n"
     ]
    }
   ],
   "source": [
    "# Check how we're doing on memory (I have 64GB on the dev machine)\n",
    "import sys\n",
    "def sizeof_fmt(num, suffix='B'):\n",
    "    ''' by Fred Cirera,  https://stackoverflow.com/a/1094933/1870254, modified'''\n",
    "    for unit in ['','Ki','Mi','Gi','Ti','Pi','Ei','Zi']:\n",
    "        if abs(num) < 1024.0:\n",
    "            return \"%3.1f %s%s\" % (num, unit, suffix)\n",
    "        num /= 1024.0\n",
    "    return \"%.1f %s%s\" % (num, 'Yi', suffix)\n",
    "\n",
    "for name, size in sorted(((name, sys.getsizeof(value)) for name, value in locals().items()),\n",
    "                         key= lambda x: -x[1])[:20]:\n",
    "    print(\"{:>30}: {:>8}\".format(name, sizeof_fmt(size)))\n"
   ]
  }
 ],
 "metadata": {
  "kernelspec": {
   "display_name": "Python 3 (ipykernel)",
   "language": "python",
   "name": "python3"
  },
  "language_info": {
   "codemirror_mode": {
    "name": "ipython",
    "version": 3
   },
   "file_extension": ".py",
   "mimetype": "text/x-python",
   "name": "python",
   "nbconvert_exporter": "python",
   "pygments_lexer": "ipython3",
   "version": "3.10.12"
  }
 },
 "nbformat": 4,
 "nbformat_minor": 4
}
